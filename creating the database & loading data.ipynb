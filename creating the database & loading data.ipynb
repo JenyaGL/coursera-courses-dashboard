{
 "cells": [
  {
   "cell_type": "code",
   "execution_count": 84,
   "id": "7caca134-584d-45d1-8ad7-e5117c04a168",
   "metadata": {},
   "outputs": [
    {
     "name": "stdout",
     "output_type": "stream",
     "text": [
      "Requirement already satisfied: psycopg2 in c:\\users\\jenya\\appdata\\local\\anaconda3\\lib\\site-packages (2.9.10)\n",
      "Note: you may need to restart the kernel to use updated packages.\n"
     ]
    }
   ],
   "source": [
    "pip install psycopg2"
   ]
  },
  {
   "cell_type": "code",
   "execution_count": 85,
   "id": "cc2495ec-e054-4daf-beb9-7ac327f22542",
   "metadata": {
    "scrolled": true
   },
   "outputs": [
    {
     "name": "stdout",
     "output_type": "stream",
     "text": [
      "Requirement already satisfied: psycopg2 in c:\\users\\jenya\\appdata\\local\\anaconda3\\lib\\site-packages (2.9.10)Note: you may need to restart the kernel to use updated packages.\n",
      "\n",
      "Requirement already satisfied: sqlalchemy in c:\\users\\jenya\\appdata\\local\\anaconda3\\lib\\site-packages (2.0.34)\n",
      "Requirement already satisfied: pandas in c:\\users\\jenya\\appdata\\local\\anaconda3\\lib\\site-packages (2.2.2)\n",
      "Requirement already satisfied: typing-extensions>=4.6.0 in c:\\users\\jenya\\appdata\\local\\anaconda3\\lib\\site-packages (from sqlalchemy) (4.11.0)\n",
      "Requirement already satisfied: greenlet!=0.4.17 in c:\\users\\jenya\\appdata\\local\\anaconda3\\lib\\site-packages (from sqlalchemy) (3.0.1)\n",
      "Requirement already satisfied: numpy>=1.26.0 in c:\\users\\jenya\\appdata\\local\\anaconda3\\lib\\site-packages (from pandas) (1.26.4)\n",
      "Requirement already satisfied: python-dateutil>=2.8.2 in c:\\users\\jenya\\appdata\\local\\anaconda3\\lib\\site-packages (from pandas) (2.9.0.post0)\n",
      "Requirement already satisfied: pytz>=2020.1 in c:\\users\\jenya\\appdata\\local\\anaconda3\\lib\\site-packages (from pandas) (2024.1)\n",
      "Requirement already satisfied: tzdata>=2022.7 in c:\\users\\jenya\\appdata\\local\\anaconda3\\lib\\site-packages (from pandas) (2023.3)\n",
      "Requirement already satisfied: six>=1.5 in c:\\users\\jenya\\appdata\\local\\anaconda3\\lib\\site-packages (from python-dateutil>=2.8.2->pandas) (1.16.0)\n"
     ]
    }
   ],
   "source": [
    "pip install psycopg2 sqlalchemy pandas"
   ]
  },
  {
   "cell_type": "code",
   "execution_count": 86,
   "id": "6dc636a0-dddc-46e0-9830-0abef5e3634b",
   "metadata": {},
   "outputs": [],
   "source": [
    "import pandas as pd\n",
    "from sqlalchemy import create_engine\n",
    "from psycopg2 import sql"
   ]
  },
  {
   "cell_type": "code",
   "execution_count": 87,
   "id": "63ff000a-db28-4e38-93bf-42fbe55a6f5b",
   "metadata": {},
   "outputs": [],
   "source": [
    "# Database connection parameters\n",
    "db_params = {\n",
    "    \"dbname\": \"postgres\",  # Connect to the default database to create a new one\n",
    "    \"user\": \"postgres\",\n",
    "    \"password\": \"1234567890\",\n",
    "    \"host\": \"localhost\",\n",
    "    \"port\": 5432\n",
    "}"
   ]
  },
  {
   "cell_type": "code",
   "execution_count": 88,
   "id": "cd09463c-c46b-4fb9-83aa-22f5e936849d",
   "metadata": {},
   "outputs": [],
   "source": [
    "# Define the SQL commands for database and tables\n",
    "create_database_command = \"CREATE DATABASE coursera_database;\""
   ]
  },
  {
   "cell_type": "code",
   "execution_count": 89,
   "id": "e97c4a7b-a1b2-4761-8943-1de7add94afe",
   "metadata": {
    "scrolled": true
   },
   "outputs": [
    {
     "name": "stdout",
     "output_type": "stream",
     "text": [
      "Database 'ccoursera_database' created successfully.\n",
      "Tables created successfully in 'coursera_database'.\n"
     ]
    }
   ],
   "source": [
    "create_tables_command =\"\"\"\n",
    "-- Create courses_dim table\n",
    "CREATE TABLE public.courses_dim\n",
    "(\n",
    "    course_id INT PRIMARY KEY,\n",
    "    title TEXT,\n",
    "    organization TEXT\n",
    ");\n",
    "\n",
    "-- Create skills_dim table\n",
    "CREATE TABLE public.skills_dim\n",
    "(\n",
    "    skill_id INT PRIMARY KEY,\n",
    "    skills TEXT,\n",
    "    type TEXT\n",
    ");\n",
    "\n",
    "-- Create course_details_fact table\n",
    "CREATE TABLE public.course_details_fact\n",
    "(\n",
    "    course_id INT PRIMARY KEY,\n",
    "    certificate_type TEXT,\n",
    "    rating INT,\n",
    "    reviews TEXT,\n",
    "    coursera_plus BOOLEAN,\n",
    "    degree_points BOOLEAN,\n",
    "    difficulty TEXT\n",
    ");\n",
    "\n",
    "-- Create course_skill_dim table\n",
    "CREATE TABLE public.course_skill_dim\n",
    "(\n",
    "    id INT PRIMARY KEY,\n",
    "    skill_id INT,\n",
    "    course_id INT\n",
    ");\n",
    "\n",
    "-- Set ownership\n",
    "ALTER TABLE public.courses_dim OWNER TO postgres;\n",
    "ALTER TABLE public.skills_dim OWNER TO postgres;\n",
    "ALTER TABLE public.course_details_fact OWNER TO postgres;\n",
    "ALTER TABLE public.course_skill_dim OWNER TO postgres;\n",
    "\n",
    "-- Create indexes\n",
    "CREATE INDEX idx_skill_id ON public.course_skill_dim (skill_id);\n",
    "CREATE INDEX idx_course_id ON public.course_skill_dim (course_id);\n",
    "\"\"\"\n",
    "\n",
    "try:\n",
    "    # Connect to PostgreSQL to create the database\n",
    "    connection = psycopg2.connect(**db_params)\n",
    "    connection.autocommit = True\n",
    "    cursor = connection.cursor()\n",
    "\n",
    "    # Create the Coursera database\n",
    "    cursor.execute(create_database_command)\n",
    "    print(\"Database 'coursera_database' created successfully.\")\n",
    "\n",
    "    # Connect to the newly created database\n",
    "    db_params[\"dbname\"] = \"coursera_database\"\n",
    "    connection = psycopg2.connect(**db_params)\n",
    "    cursor = connection.cursor()\n",
    "\n",
    "    # Create tables\n",
    "    cursor.execute(create_tables_command)\n",
    "    connection.commit()\n",
    "    print(\"Tables created successfully in 'coursera_database'.\")\n",
    "\n",
    "except Exception as e:\n",
    "    print(f\"Error: {e}\")\n",
    "    if connection:\n",
    "        connection.rollback()\n",
    "finally:\n",
    "    # Close the cursor and connection\n",
    "    if cursor:\n",
    "        cursor.close()\n",
    "    if connection:\n",
    "        connection.close()"
   ]
  },
  {
   "cell_type": "code",
   "execution_count": 91,
   "id": "40e5d32e-929c-4375-bbf3-2799c8ec8606",
   "metadata": {},
   "outputs": [
    {
     "name": "stdout",
     "output_type": "stream",
     "text": [
      "Connected to PostgreSQL\n"
     ]
    }
   ],
   "source": [
    "connection = psycopg2.connect(\n",
    "    host=\"localhost\",\n",
    "    database=\"coursera_database\",\n",
    "    user=\"postgres\",\n",
    "    password=\"1234567890\"\n",
    ")\n",
    "\n",
    "cursor = connection.cursor()\n",
    "print(\"Connected to PostgreSQL\")\n",
    "cursor.close()\n",
    "connection.close()"
   ]
  },
  {
   "cell_type": "code",
   "execution_count": 92,
   "id": "537b6898-1f19-4aab-9b53-3a78074832aa",
   "metadata": {},
   "outputs": [],
   "source": [
    "# Database connection details\n",
    "db_params = {\n",
    "    \"dbname\": \"coursera_database\",  # Connect to the default database to create a new one\n",
    "    \"user\": \"postgres\",\n",
    "    \"password\": \"1234567890\",\n",
    "    \"host\": \"localhost\",\n",
    "    \"port\": 5432\n",
    "}\n",
    "\n",
    "# Connection string\n",
    "db_url = f\"postgresql://{db_params['user']}:{db_params['password']}@{db_params['host']}:{db_params['port']}/{db_params['dbname']}\"\n",
    "\n",
    "# Create SQLAlchemy engine\n",
    "engine = create_engine(db_url)\n"
   ]
  },
  {
   "cell_type": "markdown",
   "id": "3f438e8a-72b5-4265-a003-003811dae0c1",
   "metadata": {},
   "source": [
    "# Load CSV into pandas DataFrame\n"
   ]
  },
  {
   "cell_type": "code",
   "execution_count": 93,
   "id": "f36e20a0-db7f-4b04-b433-3ecadf20dd7c",
   "metadata": {},
   "outputs": [],
   "source": [
    "courses_dim = pd.read_csv(\"data/courses_dim.csv\")"
   ]
  },
  {
   "cell_type": "code",
   "execution_count": 94,
   "id": "3548e38e-463f-4240-b957-bb413e5bce2f",
   "metadata": {},
   "outputs": [],
   "source": [
    "skills_dim = pd.read_csv(\"data/skills_list_dim.csv\")"
   ]
  },
  {
   "cell_type": "code",
   "execution_count": 95,
   "id": "4469e6ab-9e8e-47c9-99e0-479b89629732",
   "metadata": {},
   "outputs": [],
   "source": [
    "course_details_fact = pd.read_csv(\"data/course_details_fact.csv\")"
   ]
  },
  {
   "cell_type": "code",
   "execution_count": 96,
   "id": "63076e10-b9c9-49e6-98e5-2d25c09934aa",
   "metadata": {},
   "outputs": [],
   "source": [
    "course_to_skills_dim = pd.read_csv(\"data/course_to_skill_dim.csv\")"
   ]
  },
  {
   "cell_type": "markdown",
   "id": "d0a92522-b8aa-4cb8-a19a-b0e80361341f",
   "metadata": {},
   "source": [
    "# Load data into tables\n"
   ]
  },
  {
   "cell_type": "code",
   "execution_count": 97,
   "id": "0283341b-347b-419e-9b3a-64e185400da5",
   "metadata": {},
   "outputs": [
    {
     "data": {
      "text/plain": [
       "8"
      ]
     },
     "execution_count": 97,
     "metadata": {},
     "output_type": "execute_result"
    }
   ],
   "source": [
    "courses_dim.to_sql('courses_dim', engine, if_exists='replace', index=False)"
   ]
  },
  {
   "cell_type": "code",
   "execution_count": 98,
   "id": "ffbbcd64-9456-4aec-9da8-6aeb73e05fee",
   "metadata": {},
   "outputs": [
    {
     "data": {
      "text/plain": [
       "715"
      ]
     },
     "execution_count": 98,
     "metadata": {},
     "output_type": "execute_result"
    }
   ],
   "source": [
    "skills_dim.to_sql('skills_dim', engine, if_exists='replace', index=False)"
   ]
  },
  {
   "cell_type": "code",
   "execution_count": 99,
   "id": "1b29a11f-24fd-4d9a-bc61-918f342354a5",
   "metadata": {},
   "outputs": [
    {
     "data": {
      "text/plain": [
       "8"
      ]
     },
     "execution_count": 99,
     "metadata": {},
     "output_type": "execute_result"
    }
   ],
   "source": [
    "course_details_fact.to_sql('course_details_fact', engine, if_exists='replace', index=False)"
   ]
  },
  {
   "cell_type": "code",
   "execution_count": 100,
   "id": "378430c8-5eaa-42c1-8224-5a8cf225279f",
   "metadata": {},
   "outputs": [
    {
     "data": {
      "text/plain": [
       "344"
      ]
     },
     "execution_count": 100,
     "metadata": {},
     "output_type": "execute_result"
    }
   ],
   "source": [
    "course_to_skills_dim.to_sql('course_to_skills_dim', engine, if_exists='replace', index=False)"
   ]
  },
  {
   "cell_type": "markdown",
   "id": "9759920c-c901-4e89-807b-10ab60e3ecba",
   "metadata": {},
   "source": [
    "# adding primary and foreign keys"
   ]
  },
  {
   "cell_type": "code",
   "execution_count": 107,
   "id": "80d70c9d-839d-4aeb-9168-824c17b3c846",
   "metadata": {},
   "outputs": [
    {
     "name": "stdout",
     "output_type": "stream",
     "text": [
      "Primary and foreign keys set successfully.\n"
     ]
    }
   ],
   "source": [
    "# SQL script to set keys and relationships\n",
    "alter_table_script = \"\"\"\n",
    "\n",
    "-- Set primary keys\n",
    "ALTER TABLE courses_dim ADD CONSTRAINT courses_dim_pkey PRIMARY KEY (course_id);\n",
    "ALTER TABLE skills_dim ADD CONSTRAINT skills_dim_pkey PRIMARY KEY (skill_id);\n",
    "ALTER TABLE course_details_fact ADD CONSTRAINT course_details_fact_pkey PRIMARY KEY (course_id);\n",
    "ALTER TABLE course_skill_dim ADD CONSTRAINT course_skill_dim_pkey PRIMARY KEY (course_id);\n",
    "\n",
    "-- Set foreign keys\n",
    "ALTER TABLE course_details_fact ADD CONSTRAINT course_details_fact_course_id_fkey FOREIGN KEY (course_id) REFERENCES courses_dim (course_id);\n",
    "ALTER TABLE course_skill_dim ADD CONSTRAINT course_skill_dim_course_id_fkey FOREIGN KEY (course_id) REFERENCES course_details_fact (course_id);\n",
    "ALTER TABLE course_skill_dim ADD CONSTRAINT course_skill_dim_skill_id_fkey FOREIGN KEY (skill_id) REFERENCES skills_dim (skill_id);\n",
    "\"\"\"\n",
    "\n",
    "# Execute the SQL script\n",
    "try:\n",
    "    with engine.connect() as conn:\n",
    "        conn.execute(text(alter_table_script))\n",
    "    print(\"Primary and foreign keys set successfully.\")\n",
    "except Exception as e:\n",
    "    print(f\"An error occurred: {e}\")"
   ]
  },
  {
   "cell_type": "code",
   "execution_count": null,
   "id": "4e1496f1-1456-4e6b-89b7-9d69ac27e4e8",
   "metadata": {},
   "outputs": [],
   "source": []
  },
  {
   "cell_type": "code",
   "execution_count": null,
   "id": "7a0f38f7-9d96-4943-bc9b-38de0e88005c",
   "metadata": {},
   "outputs": [],
   "source": []
  }
 ],
 "metadata": {
  "kernelspec": {
   "display_name": "Python 3 (ipykernel)",
   "language": "python",
   "name": "python3"
  },
  "language_info": {
   "codemirror_mode": {
    "name": "ipython",
    "version": 3
   },
   "file_extension": ".py",
   "mimetype": "text/x-python",
   "name": "python",
   "nbconvert_exporter": "python",
   "pygments_lexer": "ipython3",
   "version": "3.12.7"
  }
 },
 "nbformat": 4,
 "nbformat_minor": 5
}
