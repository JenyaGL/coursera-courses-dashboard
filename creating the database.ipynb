{
 "cells": [
  {
   "cell_type": "code",
   "execution_count": 2,
   "id": "83e951ba-943f-4618-a5d8-36570e2e750e",
   "metadata": {},
   "outputs": [
    {
     "name": "stdout",
     "output_type": "stream",
     "text": [
      "Requirement already satisfied: mysql-connector-python in c:\\users\\user\\anaconda3\\lib\\site-packages (9.1.0)\n",
      "Note: you may need to restart the kernel to use updated packages.\n"
     ]
    }
   ],
   "source": [
    "pip install mysql-connector-python"
   ]
  },
  {
   "cell_type": "code",
   "execution_count": 3,
   "id": "cc2495ec-e054-4daf-beb9-7ac327f22542",
   "metadata": {
    "scrolled": true
   },
   "outputs": [
    {
     "name": "stdout",
     "output_type": "stream",
     "text": [
      "Requirement already satisfied: pymysql in c:\\users\\user\\anaconda3\\lib\\site-packages (1.1.1)\n",
      "Note: you may need to restart the kernel to use updated packages.\n"
     ]
    }
   ],
   "source": [
    "pip install pymysql"
   ]
  },
  {
   "cell_type": "code",
   "execution_count": 4,
   "id": "6dc636a0-dddc-46e0-9830-0abef5e3634b",
   "metadata": {},
   "outputs": [],
   "source": [
    "import pymysql\n",
    "import mysql\n",
    "import mysql.connector\n",
    "import pandas as pd"
   ]
  },
  {
   "cell_type": "code",
   "execution_count": 16,
   "id": "40e5d32e-929c-4375-bbf3-2799c8ec8606",
   "metadata": {},
   "outputs": [
    {
     "name": "stdout",
     "output_type": "stream",
     "text": [
      "Error: (2003, \"Can't connect to MySQL server on 'localhost' ([WinError 10061] No connection could be made because the target machine actively refused it)\")\n"
     ]
    }
   ],
   "source": [
    "import mysql.connector\n",
    "\n",
    "try:\n",
    "    db_connection = pymysql.connect(\n",
    "        host=\"localhost\",\n",
    "        user=\"coursera\",\n",
    "        password=\"1234567890\"\n",
    "    )\n",
    "    print(\"Connected to MySQL successfully.\")\n",
    "except Exception as e:\n",
    "    print(f\"Error: {e}\")"
   ]
  },
  {
   "cell_type": "code",
   "execution_count": 51,
   "id": "16852581-eef8-4f57-a690-db195849eb06",
   "metadata": {},
   "outputs": [
    {
     "ename": "NameError",
     "evalue": "name 'cursor' is not defined",
     "output_type": "error",
     "traceback": [
      "\u001b[1;31m---------------------------------------------------------------------------\u001b[0m",
      "\u001b[1;31mNameError\u001b[0m                                 Traceback (most recent call last)",
      "Cell \u001b[1;32mIn[51], line 2\u001b[0m\n\u001b[0;32m      1\u001b[0m \u001b[38;5;66;03m# Create the Database\u001b[39;00m\n\u001b[1;32m----> 2\u001b[0m cursor\u001b[38;5;241m.\u001b[39mexecute(\u001b[38;5;124m\"\u001b[39m\u001b[38;5;124mCREATE DATABASE IF NOT EXISTS course_data\u001b[39m\u001b[38;5;124m\"\u001b[39m)\n\u001b[0;32m      3\u001b[0m cursor\u001b[38;5;241m.\u001b[39mexecute(\u001b[38;5;124m\"\u001b[39m\u001b[38;5;124mUSE course_data\u001b[39m\u001b[38;5;124m\"\u001b[39m)\n\u001b[0;32m      5\u001b[0m \u001b[38;5;66;03m# Create Tables\u001b[39;00m\n",
      "\u001b[1;31mNameError\u001b[0m: name 'cursor' is not defined"
     ]
    }
   ],
   "source": [
    "\n",
    "# Create the Database\n",
    "cursor.execute(\"CREATE DATABASE IF NOT EXISTS course_data\")\n",
    "cursor.execute(\"USE course_data\")\n",
    "\n",
    "# Create Tables\n",
    "cursor.execute(\"\"\"\n",
    "CREATE TABLE IF NOT EXISTS Organizations (\n",
    "    id INT AUTO_INCREMENT PRIMARY KEY,\n",
    "    name VARCHAR(255) UNIQUE NOT NULL)\n",
    "\"\"\")\n",
    "\n",
    "cursor.execute(\"\"\"\n",
    "CREATE TABLE IF NOT EXISTS Certificate_Types (\n",
    "    id INT AUTO_INCREMENT PRIMARY KEY,\n",
    "    type VARCHAR(255) UNIQUE NOT NULL)\n",
    "\"\"\")\n",
    "\n",
    "cursor.execute(\"\"\"\n",
    "CREATE TABLE IF NOT EXISTS Courses (\n",
    "    id INT AUTO_INCREMENT PRIMARY KEY,\n",
    "    title VARCHAR(255) NOT NULL,\n",
    "    organization_id INT NOT NULL,\n",
    "    certificate_type_id INT NOT NULL,\n",
    "    rating FLOAT,\n",
    "    reviews INT,\n",
    "    coursera_plus BOOLEAN,\n",
    "    difficulty VARCHAR(50),\n",
    "    duration VARCHAR(50),\n",
    "    FOREIGN KEY (organization_id) REFERENCES Organizations(id),\n",
    "    FOREIGN KEY (certificate_type_id) REFERENCES Certificate_Types(id)\n",
    ")\n",
    "\"\"\")\n",
    "\n",
    "cursor.execute(\"\"\"\n",
    "CREATE TABLE IF NOT EXISTS Skills (\n",
    "    id INT AUTO_INCREMENT PRIMARY KEY,\n",
    "    name VARCHAR(255) UNIQUE NOT NULL\n",
    ")\n",
    "\"\"\")\n",
    "\n",
    "cursor.execute(\"\"\"\n",
    "CREATE TABLE IF NOT EXISTS Course_Skills (\n",
    "    course_id INT NOT NULL,\n",
    "    skill_id INT NOT NULL,\n",
    "    PRIMARY KEY (course_id, skill_id),\n",
    "    FOREIGN KEY (course_id) REFERENCES Courses(id),\n",
    "    FOREIGN KEY (skill_id) REFERENCES Skills(id)\n",
    ")\n",
    "\"\"\")\n",
    "\n",
    "# Insert Organizations\n",
    "organizations = courses_df_clean[\"Organization\"].unique()\n",
    "for org in organizations:\n",
    "    cursor.execute(\"\"\"\n",
    "        INSERT IGNORE INTO Organizations (name) VALUES (%s)\n",
    "    \"\"\", (org,))\n",
    "\n",
    "# Insert Certificate Types\n",
    "certificate_types = courses_df_clean[\"Certificate Type\"].unique()\n",
    "for cert_type in certificate_types:\n",
    "    cursor.execute(\"\"\"\n",
    "        INSERT IGNORE INTO Certificate_Types (type) VALUES (%s)\n",
    "    \"\"\", (cert_type,))\n",
    "\n",
    "# Insert Courses\n",
    "for _, row in courses_df_clean.iterrows():\n",
    "    cursor.execute(\"\"\"\n",
    "        INSERT INTO Courses (title, organization_id, certificate_type_id, rating, reviews, coursera_plus, difficulty, duration)\n",
    "        VALUES (\n",
    "            %s,\n",
    "            (SELECT id FROM Organizations WHERE name = %s),\n",
    "            (SELECT id FROM Certificate_Types WHERE type = %s),\n",
    "            %s, %s, %s, %s, %s\n",
    "        )\n",
    "    \"\"\", (row[\"Title\"], row[\"Organization\"], row[\"Certificate Type\"], row[\"Rating\"], row[\"Reviews\"],\n",
    "          row[\"Coursera Plus\"], row[\"difficulty\"], row[\"Duration\"]))\n",
    "\n",
    "# Insert Skills\n",
    "all_skills = set(skill for skill_list in courses_df_clean[\"Skills\"] for skill in skill_list)\n",
    "for skill in all_skills:\n",
    "    cursor.execute(\"\"\"\n",
    "        INSERT IGNORE INTO Skills (name) VALUES (%s)\n",
    "    \"\"\", (skill,))\n",
    "\n",
    "# Insert Course-Skill Mapping\n",
    "for _, row in courses_df_clean.iterrows():\n",
    "    for skill in row[\"Skills\"]:\n",
    "        cursor.execute(\"\"\"\n",
    "            INSERT INTO Course_Skills (course_id, skill_id)\n",
    "            VALUES (\n",
    "                (SELECT id FROM Courses WHERE title = %s),\n",
    "                (SELECT id FROM Skills WHERE name = %s)\n",
    "            )\n",
    "        \"\"\", (row[\"Title\"], skill))\n",
    "\n",
    "# Commit changes and close connection\n",
    "connection.commit()\n",
    "cursor.close()\n",
    "connection.close()\n",
    "\n",
    "print(\"Data loaded successfully.\")\n"
   ]
  },
  {
   "cell_type": "code",
   "execution_count": null,
   "id": "1e4451e7-6068-44d8-9bd0-7826f2d26252",
   "metadata": {},
   "outputs": [],
   "source": []
  }
 ],
 "metadata": {
  "kernelspec": {
   "display_name": "Python 3 (ipykernel)",
   "language": "python",
   "name": "python3"
  },
  "language_info": {
   "codemirror_mode": {
    "name": "ipython",
    "version": 3
   },
   "file_extension": ".py",
   "mimetype": "text/x-python",
   "name": "python",
   "nbconvert_exporter": "python",
   "pygments_lexer": "ipython3",
   "version": "3.12.4"
  }
 },
 "nbformat": 4,
 "nbformat_minor": 5
}
